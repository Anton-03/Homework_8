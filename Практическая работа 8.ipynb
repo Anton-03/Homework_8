{
 "cells": [
  {
   "cell_type": "markdown",
   "metadata": {},
   "source": [
    "# Задача 1"
   ]
  },
  {
   "cell_type": "code",
   "execution_count": 19,
   "metadata": {},
   "outputs": [
    {
     "name": "stdout",
     "output_type": "stream",
     "text": [
      "3\n",
      "14\n"
     ]
    }
   ],
   "source": [
    "n = int(input())\n",
    "sum = 0\n",
    "for i in range(1,n+1):\n",
    "    sum +=i**2\n",
    "print(sum)"
   ]
  },
  {
   "cell_type": "markdown",
   "metadata": {},
   "source": [
    "# Задача 2"
   ]
  },
  {
   "cell_type": "code",
   "execution_count": 27,
   "metadata": {},
   "outputs": [
    {
     "name": "stdout",
     "output_type": "stream",
     "text": [
      "6\n",
      "+___ +___ +___ +___ +___ +___ \n",
      "|1 / |2 / |3 / |4 / |5 / |6 / \n",
      "|__\\ |__\\ |__\\ |__\\ |__\\ |__\\ \n",
      "|    |    |    |    |    |    \n"
     ]
    }
   ],
   "source": [
    "n = int(input())\n",
    "print('+___ ' * n)\n",
    "for i in range(1, n + 1):\n",
    "    print('|', i, ' / ', sep='', end='')\n",
    "print()\n",
    "print('|__\\\\ ' * n)\n",
    "print('|    ' * n)"
   ]
  },
  {
   "cell_type": "markdown",
   "metadata": {},
   "source": [
    "# Задача 3"
   ]
  },
  {
   "cell_type": "code",
   "execution_count": 34,
   "metadata": {},
   "outputs": [
    {
     "name": "stdout",
     "output_type": "stream",
     "text": [
      "4 5 6 23 5\n",
      "5 23 6 5 4 "
     ]
    }
   ],
   "source": [
    "s = list(input().split(' '))\n",
    "for i in reversed(s):\n",
    "    print(i, end=' ')"
   ]
  },
  {
   "cell_type": "markdown",
   "metadata": {},
   "source": [
    "# Задача 4"
   ]
  },
  {
   "cell_type": "code",
   "execution_count": 38,
   "metadata": {},
   "outputs": [
    {
     "name": "stdout",
     "output_type": "stream",
     "text": [
      "4 -3 5 2 -5\n",
      "2\n",
      "4 -3 2 -5\n"
     ]
    }
   ],
   "source": [
    "Str = [int(s) for s in input().split()]\n",
    "k = int(input())\n",
    "for i in range(k + 1, len(Str)):\n",
    "    Str[i - 1] = Str[i]\n",
    "Str.pop()\n",
    "print(' '.join([str(i) for i in Str]))"
   ]
  },
  {
   "cell_type": "markdown",
   "metadata": {},
   "source": [
    "# Задача 5"
   ]
  },
  {
   "cell_type": "code",
   "execution_count": 39,
   "metadata": {},
   "outputs": [
    {
     "name": "stdout",
     "output_type": "stream",
     "text": [
      "1 2 3 4 5\n",
      "2 1 4 3 5\n"
     ]
    }
   ],
   "source": [
    "Str = [int(i) for i in input().split()]\n",
    "for i in range(1, len(Str), 2):\n",
    "    Str[i - 1], Str[i] = Str[i], Str[i - 1]\n",
    "    \n",
    "print(' '.join([str(i) for i in Str]))"
   ]
  },
  {
   "cell_type": "markdown",
   "metadata": {},
   "source": [
    "# Задача 6"
   ]
  },
  {
   "cell_type": "code",
   "execution_count": 40,
   "metadata": {},
   "outputs": [
    {
     "name": "stdout",
     "output_type": "stream",
     "text": [
      "4 0 5 0 3 0 5 5\n",
      "4 5 3 5 5 0 0 0\n"
     ]
    }
   ],
   "source": [
    "lst = input().split()\n",
    "for i in reversed(range(len(lst))):\n",
    "    if lst[i] == '0':\n",
    "        lst.append(lst.pop(i))\n",
    "print(*lst)"
   ]
  },
  {
   "cell_type": "markdown",
   "metadata": {},
   "source": [
    "# Задача 7"
   ]
  },
  {
   "cell_type": "code",
   "execution_count": 53,
   "metadata": {},
   "outputs": [
    {
     "name": "stdout",
     "output_type": "stream",
     "text": [
      "3 \n",
      "3 \n",
      "2\n",
      "1\n",
      "1 2 3\n"
     ]
    }
   ],
   "source": [
    "k = int(input())\n",
    "N = [int(input()) for i in range(k)]\n",
    "print(*sorted(N))\n"
   ]
  },
  {
   "cell_type": "markdown",
   "metadata": {},
   "source": [
    "# Задача 8"
   ]
  },
  {
   "cell_type": "code",
   "execution_count": 57,
   "metadata": {},
   "outputs": [
    {
     "name": "stdout",
     "output_type": "stream",
     "text": [
      "100 3\n",
      "50\n",
      "30\n",
      "50\n",
      "2\n"
     ]
    }
   ],
   "source": [
    "n = list(map(int, input().split()))\n",
    "s = []\n",
    "for i in range(n[1]):\n",
    "    s.append(int(input()))\n",
    "s.sort()\n",
    "d, c = 0, 0\n",
    "for i in s:\n",
    "    d += i\n",
    "    if d <= n[0]:\n",
    "        c += 1\n",
    "print(c)"
   ]
  },
  {
   "cell_type": "markdown",
   "metadata": {},
   "source": [
    "# Задача 9"
   ]
  },
  {
   "cell_type": "code",
   "execution_count": 60,
   "metadata": {},
   "outputs": [
    {
     "name": "stdout",
     "output_type": "stream",
     "text": [
      "5\n",
      "1 50 3 4 3\n",
      "16\n",
      "1 2 3 4 5 1 3 3 4 5 5 5 5 5 4 5\n",
      "YES\n",
      "NO\n",
      "NO\n",
      "NO\n",
      "YES\n"
     ]
    }
   ],
   "source": [
    "def kv(n, a, m):\n",
    "    Count = [0] * n\n",
    "    for cl in a:\n",
    "        Count[cl - 1] += 1\n",
    "    for i in range(n):\n",
    "        if m[i] < Count[i]:\n",
    "            print('YES')\n",
    "        else:\n",
    "            print('NO')\n",
    "n = int(input())\n",
    "m = [int(i) for i in input().split()]\n",
    "k = int(input())\n",
    "a = [int(i) for i in input().split()]\n",
    "kv(n, a, m)"
   ]
  },
  {
   "cell_type": "markdown",
   "metadata": {},
   "source": [
    "# Задача 10"
   ]
  },
  {
   "cell_type": "code",
   "execution_count": 66,
   "metadata": {},
   "outputs": [
    {
     "name": "stdout",
     "output_type": "stream",
     "text": [
      "9 8 7 6 5 4 3 2 1 0\n",
      "0 1 2 3 4 5 6 7 8 9 "
     ]
    }
   ],
   "source": [
    "def CountSort(list):\n",
    "    sort= [0] * 101\n",
    "    for i in list:\n",
    "        sort[i] += 1\n",
    "    for i in range(101):\n",
    "        print((str(i) + ' ') * sort[i], end='')\n",
    "list = [int(i) for i in input().split()]\n",
    "CountSort(list)"
   ]
  },
  {
   "cell_type": "markdown",
   "metadata": {},
   "source": [
    "# Задача 11"
   ]
  },
  {
   "cell_type": "code",
   "execution_count": 71,
   "metadata": {},
   "outputs": [
    {
     "name": "stdout",
     "output_type": "stream",
     "text": [
      "3\n",
      "Def 5\n",
      "Der 10\n",
      "Dev 15\n",
      "Dev\n",
      "Der\n",
      "Def\n"
     ]
    }
   ],
   "source": [
    "n = int(input())\n",
    "a = [input().split() for _ in range(n)]\n",
    "for i in sorted(a, key=lambda x: int(x[1]), reverse=True):\n",
    "    print(i[0])"
   ]
  },
  {
   "cell_type": "markdown",
   "metadata": {},
   "source": [
    "# Задача 12"
   ]
  },
  {
   "cell_type": "code",
   "execution_count": 32,
   "metadata": {},
   "outputs": [
    {
     "name": "stdout",
     "output_type": "stream",
     "text": [
      "1 2 3\n",
      "1 2 3\n",
      "10\n"
     ]
    }
   ],
   "source": [
    "rate = sorted([int(s) for s in input().split()])\n",
    "length = sorted([int(s) for s in input().split()], reverse=True)\n",
    "\n",
    "print(sum(t*d for t, d in zip(rate, length)))"
   ]
  },
  {
   "cell_type": "markdown",
   "metadata": {},
   "source": [
    "# Задача 13"
   ]
  },
  {
   "cell_type": "code",
   "execution_count": 80,
   "metadata": {},
   "outputs": [
    {
     "name": "stdout",
     "output_type": "stream",
     "text": [
      "8(495)430-23-97\n",
      "+7-4-9-5-43-023-97\n",
      "4-3-0-2-3-9-7\n",
      "8-495-430\n",
      "YES\n",
      "YES\n",
      "NO\n"
     ]
    }
   ],
   "source": [
    "def rv(string):\n",
    "    string = string.replace('-', '').replace('(', '').replace(')', '')\n",
    "    return string[-10:] if len(string)>7 else '495' + string[-7:]\n",
    " \n",
    "n = 4\n",
    "notes = [input() for _ in range(n)]\n",
    "for note in notes[1:]:\n",
    "    print('YES' if rv(notes[0]) == rv(note) else 'NO')"
   ]
  },
  {
   "cell_type": "markdown",
   "metadata": {},
   "source": [
    "# Задача 14"
   ]
  },
  {
   "cell_type": "code",
   "execution_count": 85,
   "metadata": {},
   "outputs": [
    {
     "name": "stdout",
     "output_type": "stream",
     "text": [
      "2\n",
      "Russia Moscow Petersburg Novgorod Kaluga\n",
      "Ukraine Kiev Donetsk Odessa\n",
      "3\n",
      "Odessa\n",
      "Moscow\n",
      "Novgorod\n",
      "Ukraine\n",
      "Russia\n",
      "Russia\n"
     ]
    }
   ],
   "source": [
    "A = dict()\n",
    "D = []\n",
    "F = []\n",
    "x = int(input())\n",
    "for n in range (x):  \n",
    "    F = input().split()\n",
    "    key = F[0]\n",
    "    del F[0]\n",
    "    val = F\n",
    "    A[key]=val\n",
    "word = int(input())\n",
    "for i in range (word):\n",
    "    D.append(input())\n",
    "for i in range(word):\n",
    "    for key, val in A.items():\n",
    "        if D[i] in val:\n",
    "            print(key)"
   ]
  },
  {
   "cell_type": "markdown",
   "metadata": {},
   "source": [
    "# Задача 15"
   ]
  },
  {
   "cell_type": "code",
   "execution_count": 112,
   "metadata": {},
   "outputs": [
    {
     "name": "stdout",
     "output_type": "stream",
     "text": [
      "add ref add freg qef\n"
     ]
    },
    {
     "data": {
      "text/plain": [
       "'add'"
      ]
     },
     "execution_count": 112,
     "metadata": {},
     "output_type": "execute_result"
    }
   ],
   "source": [
    "from collections import Counter\n",
    "text = input()\n",
    "c = collections.Counter(text.split())\n",
    "max(c, key=lambda i: c[i])"
   ]
  },
  {
   "cell_type": "markdown",
   "metadata": {},
   "source": [
    "# Задача 16"
   ]
  },
  {
   "cell_type": "code",
   "execution_count": 111,
   "metadata": {},
   "outputs": [
    {
     "name": "stdout",
     "output_type": "stream",
     "text": [
      "oh you touch my tralala\n",
      "my\n",
      "oh\n",
      "touch\n",
      "tralala\n",
      "you\n"
     ]
    }
   ],
   "source": [
    "from collections import Counter\n",
    "text = input()\n",
    "c = Counter(sorted(text.split()))\n",
    "print(*sorted(c.keys(), key=c.get, reverse=True), sep='\\n')"
   ]
  },
  {
   "cell_type": "markdown",
   "metadata": {},
   "source": [
    "# Задача 17"
   ]
  },
  {
   "cell_type": "code",
   "execution_count": 39,
   "metadata": {},
   "outputs": [
    {
     "name": "stdout",
     "output_type": "stream",
     "text": [
      "ERROR\n",
      "ERROR\n",
      "100\n",
      "ERROR\n",
      "150\n",
      "110\n",
      "165\n",
      "156\n",
      "165\n",
      "156\n",
      "179\n"
     ]
    }
   ],
   "source": [
    "def deposit(name, sum):\n",
    "    bank[name] = bank.get(name, 0) + int(sum)\n",
    " \n",
    " \n",
    "def withdraw(name, sum):\n",
    "    bank[name] = bank.get(name, 0) - int(sum)\n",
    " \n",
    " \n",
    "def balance(name):\n",
    "    if name not in bank:\n",
    "        print('ERROR')\n",
    "    else:\n",
    "        print(bank[name])\n",
    " \n",
    " \n",
    "def income(percent):\n",
    "    for k, v in bank.items():\n",
    "        if v > 0:\n",
    "            bank[k] = int(v * ((int(percent)/100) + 1))\n",
    " \n",
    " \n",
    "bank = dict()\n",
    "Zadacha = open('17_zadanie.txt')\n",
    "for line in Zadacha:\n",
    "    line = line.split()\n",
    "    if 'BALANCE' in line:\n",
    "        balance(line[1])\n",
    "    elif 'DEPOSIT' in line:\n",
    "        deposit(line[1], line[2])\n",
    "    elif 'WITHDRAW' in line:\n",
    "        withdraw(line[1], line[2])\n",
    "    elif 'INCOME' in line:\n",
    "        income(line[1])\n",
    "    else:\n",
    "        withdraw(line[1], line[3])\n",
    "        deposit(line[2], line[3])\n",
    "Zadacha.close()"
   ]
  },
  {
   "cell_type": "markdown",
   "metadata": {},
   "source": [
    "# Задача 18"
   ]
  },
  {
   "cell_type": "code",
   "execution_count": 126,
   "metadata": {},
   "outputs": [
    {
     "name": "stdout",
     "output_type": "stream",
     "text": [
      "10\n",
      "AQHFYP MKFXCLZBT\n",
      "AYKOTYQ QIUKGHWCDC\n",
      "IWCGKHMFM WPLHJL\n",
      "MJVAURUDN QIUKGHWCDC\n",
      "MKFXCLZBT IWCGKHMFM\n",
      "PUTRIPYHNQ UQNGAXNP\n",
      "QIUKGHWCDC WPLHJL\n",
      "UQNGAXNP WPLHJL\n",
      "YURTPJNR QIUKGHWCDC\n",
      "AQHFYP 3\n",
      "AYKOTYQ 2\n",
      "IWCGKHMFM 1\n",
      "MJVAURUDN 2\n",
      "MKFXCLZBT 2\n",
      "PUTRIPYHNQ 2\n",
      "QIUKGHWCDC 1\n",
      "UQNGAXNP 1\n",
      "WPLHJL 0\n",
      "YURTPJNR 2\n"
     ]
    }
   ],
   "source": [
    "def k(r):\n",
    "    if r not in hy:\n",
    "        return 0\n",
    "    else:\n",
    "        return 1 + k(hy[r])\n",
    "hy = {}\n",
    "n = int(input())\n",
    "for i in range(n - 1):\n",
    "    child, parent = input().split()\n",
    "    hy[child] = parent\n",
    "heights = {}\n",
    "for r in set(hy.keys()).union(set(hy.values())):\n",
    "    heights[r] = k(r)\n",
    "for key, value in sorted(heights.items()):\n",
    "    print(key, value)"
   ]
  },
  {
   "cell_type": "markdown",
   "metadata": {},
   "source": [
    "# Задача 19"
   ]
  },
  {
   "cell_type": "code",
   "execution_count": 128,
   "metadata": {},
   "outputs": [
    {
     "name": "stdout",
     "output_type": "stream",
     "text": [
      "1 2 3 4 5 1 2 1 2 7 3\n",
      "6\n"
     ]
    }
   ],
   "source": [
    "print(len(set(input().split())))"
   ]
  },
  {
   "cell_type": "markdown",
   "metadata": {},
   "source": [
    "# Задача 20"
   ]
  },
  {
   "cell_type": "code",
   "execution_count": 134,
   "metadata": {},
   "outputs": [
    {
     "name": "stdout",
     "output_type": "stream",
     "text": [
      "f erg reg erg wfg reger  df fg ergre ger  g reg erg sd f fger .\n",
      "17\n"
     ]
    }
   ],
   "source": [
    "s = input()\n",
    "kol = 0\n",
    "prev = True\n",
    "for i in s:\n",
    "    rez = str.isspace(i)\n",
    "    if (prev and not rez): \n",
    "        kol += 1\n",
    "    prev = rez\n",
    "print(kol)"
   ]
  },
  {
   "cell_type": "markdown",
   "metadata": {},
   "source": [
    "# Задача 21"
   ]
  },
  {
   "cell_type": "code",
   "execution_count": 139,
   "metadata": {},
   "outputs": [
    {
     "name": "stdout",
     "output_type": "stream",
     "text": [
      "0 0 1 1\n",
      "0 1 0 1\n",
      "0 1 1 0\n"
     ]
    }
   ],
   "source": [
    "print(*map(lambda a, b: int(a != b), input().split(), input().split()))"
   ]
  },
  {
   "cell_type": "markdown",
   "metadata": {},
   "source": [
    "# Задача 22"
   ]
  },
  {
   "cell_type": "code",
   "execution_count": 36,
   "metadata": {},
   "outputs": [
    {
     "name": "stdout",
     "output_type": "stream",
     "text": [
      "4\n",
      "1 1 2 6 24 "
     ]
    }
   ],
   "source": [
    "from math import factorial\n",
    "n = int(input())\n",
    "for i in range(n+1):\n",
    "    numbers = [i]\n",
    "    print(*map(factorial,numbers), end=' ')"
   ]
  },
  {
   "cell_type": "markdown",
   "metadata": {},
   "source": [
    "# Задача 23"
   ]
  },
  {
   "cell_type": "code",
   "execution_count": 25,
   "metadata": {},
   "outputs": [
    {
     "name": "stdout",
     "output_type": "stream",
     "text": [
      "8\n",
      "2 3 5 7 "
     ]
    }
   ],
   "source": [
    "i=2\n",
    "n = int(input())\n",
    "while i<=n:\n",
    "    f=True\n",
    "    j=2\n",
    "    while f and j<i:\n",
    "        if not i%j:\n",
    "            f=False\n",
    "        j+=1\n",
    "    if f:\n",
    "        print(i,end=' ')\n",
    "    i+=1"
   ]
  },
  {
   "cell_type": "markdown",
   "metadata": {},
   "source": [
    "# Задача 24"
   ]
  },
  {
   "cell_type": "code",
   "execution_count": 41,
   "metadata": {},
   "outputs": [
    {
     "name": "stdout",
     "output_type": "stream",
     "text": [
      "3 2\n",
      "2 1 2 3\n",
      "1 2 3 2\n",
      "3 2 1\n"
     ]
    }
   ],
   "source": [
    "import itertools\n",
    "import functools\n",
    "print(*(tuple([[[0]]]) + tuple(*map(lambda data: filter(lambda x: tuple(x[0]) == x[1],\n",
    "    map(lambda var: (filter(lambda sta: ((var.index(sta[0]) >= var.index(sta[1])) ^ (var.index(sta[2]) >= var.index(sta[3]))), \n",
    "    data[1]),data[1], var + data[2]), data[0])),\n",
    "map(lambda x: (itertools.permutations(set(functools.reduce(lambda x,y: x + y ,x[1]))), \n",
    "x[1], tuple(set(range(1, x[0] + 1)) - set(functools.reduce(lambda x,y: x + y ,x[1])))),\n",
    "map(lambda vvod: (next(vvod), tuple(set(map(lambda y: tuple(y),\n",
    "map(lambda x: map(int, input().split()), range(next(vvod))))))), \n",
    "[map(int, input().split())])))))[-1][-1])"
   ]
  }
 ],
 "metadata": {
  "kernelspec": {
   "display_name": "Python 3",
   "language": "python",
   "name": "python3"
  },
  "language_info": {
   "codemirror_mode": {
    "name": "ipython",
    "version": 3
   },
   "file_extension": ".py",
   "mimetype": "text/x-python",
   "name": "python",
   "nbconvert_exporter": "python",
   "pygments_lexer": "ipython3",
   "version": "3.7.6"
  }
 },
 "nbformat": 4,
 "nbformat_minor": 4
}
